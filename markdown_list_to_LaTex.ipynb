{
 "cells": [
  {
   "cell_type": "code",
   "execution_count": 3,
   "metadata": {},
   "outputs": [],
   "source": [
    "import re"
   ]
  },
  {
   "cell_type": "code",
   "execution_count": 35,
   "metadata": {},
   "outputs": [],
   "source": [
    "file = 'modifications.md'\n",
    "outputfile = 'Rapport/liste_modifications.tex'\n",
    "\n",
    "output = \"\"\n",
    "with open(file, 'r', encoding='utf-8') as f:\n",
    "    lines = f.read().split('\\n')\n",
    "    previous_level = -1\n",
    "    for l in lines:\n",
    "        level = len(l.split('-')[0]) // 2\n",
    "\n",
    "        if level > previous_level:\n",
    "            output += \"\\\\begin{enumerate}\\n\"\n",
    "        elif level < previous_level:\n",
    "            output += \"\\\\end{enumerate}\\n\"\n",
    "        \n",
    "        output += l.replace('- ', '\\item ').replace(' ``', ' \\\\verb!').replace('(``', '(\\\\verb!').replace('``', '!') + \"\\n\"\n",
    "\n",
    "\n",
    "        previous_level = level\n",
    "    while(level >= 0):\n",
    "        output += \"\\\\end{enumerate}\\n\"\n",
    "        level -= 1\n",
    "\n",
    "    with open(outputfile, 'w', encoding='utf-8') as g:\n",
    "        g.write(output)"
   ]
  }
 ],
 "metadata": {
  "interpreter": {
   "hash": "06a6858702f229212a45149ce6c1ba73d7326b5afdeebebe8324a7c067d664c2"
  },
  "kernelspec": {
   "display_name": "Python 3.10.0 64-bit",
   "language": "python",
   "name": "python3"
  },
  "language_info": {
   "codemirror_mode": {
    "name": "ipython",
    "version": 3
   },
   "file_extension": ".py",
   "mimetype": "text/x-python",
   "name": "python",
   "nbconvert_exporter": "python",
   "pygments_lexer": "ipython3",
   "version": "3.10.0"
  },
  "orig_nbformat": 4
 },
 "nbformat": 4,
 "nbformat_minor": 2
}
